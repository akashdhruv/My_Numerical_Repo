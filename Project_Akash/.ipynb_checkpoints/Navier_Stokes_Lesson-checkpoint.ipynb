{
 "metadata": {
  "name": "",
  "signature": "sha256:feefb678a7ad0743d9a351c993c4a568e1d12c62d61dfb8751f1971aa450e57c"
 },
 "nbformat": 3,
 "nbformat_minor": 0,
 "worksheets": [
  {
   "cells": [
    {
     "cell_type": "heading",
     "level": 1,
     "metadata": {},
     "source": [
      "Navier-Stokes,  Learn to Fly !!"
     ]
    },
    {
     "cell_type": "markdown",
     "metadata": {},
     "source": [
      "Akash Dhruv"
     ]
    },
    {
     "cell_type": "heading",
     "level": 3,
     "metadata": {},
     "source": [
      "1. Introduction"
     ]
    },
    {
     "cell_type": "markdown",
     "metadata": {},
     "source": [
      "One of the most important application of numerical methods lies in solving the non-linear navier stokes equation (1a) and (1b). Introduced in 1822 [1] navier stokes equation describe the physics of a fulid flow accurately, but their correct analytical solution is not possible. Though some analytical solutions do exist for special flows, a general solution of these equations is hindered by the presence of the non linear term $\\small u_j \\dfrac {\\partial u_i}{\\partial x_j}$.\n",
      "\n",
      "With the increase in computation power and capabilities over the decades, it is possible to numerically solve these equations to pratical accuracy. This has contributed greately towards efficient and cost effective design and analysis.\n",
      "\n"
     ]
    },
    {
     "cell_type": "markdown",
     "metadata": {},
     "source": [
      "<h4 align=\"center\"> $ {\\dfrac{\\partial u_i}{\\partial t} +u_j \\dfrac{\\partial u_i}{\\partial x_j}=-\\dfrac {1}{\\rho} \\dfrac{\\partial p}{\\partial x_i} + \\nu\\bigtriangledown^2u_i} \\quad \\quad (1a) $ </h4>"
     ]
    },
    {
     "cell_type": "markdown",
     "metadata": {},
     "source": [
      "<h4 align=\"center\"> ${ \\dfrac {\\partial u_i}{\\partial x_i} =0 } \\quad \\quad  (1b)$ </h4>"
     ]
    },
    {
     "cell_type": "markdown",
     "metadata": {},
     "source": [
      "$ u $- velocity, $\\nu$- dynamic viscosity, $p$- Pressure"
     ]
    },
    {
     "cell_type": "markdown",
     "metadata": {},
     "source": [
      "This notebook will present a numerical code to solve navier stokes equation for a Lid-Driven Cavity. Lid-Driven Cavity is a popular computation problem, where the top wall moves with a constant velocity parallel to itself, and rest of the walls are stationary [2-4]. This problem has been highly researched in both two dimensional and three dimensional domains and is a good example to validate a given solver [1]. The equations will be solved on a staggered grid, where unlike a collocated grid, velocities are located on cell faces, and pressure is located on the cell centre. These types of grid avoid odd-even decoupling between pressure and velocity in comparison to collocated grid [5], which makes the soultion free of checkboard patterns. Odd-even decoupling occurs when neighbouring cells don't share same ancestors. Further discussion on different grids can be found in ref [2-5]. Towards the end, an immersed boundary method is also presented. Immersed boundary methods offer advantage of using a cartesian grid over curvilinear grids when assessing the flow over complex geometries (multi-element airfoils, flying snake cross-section,etc) and moving boundaries (rotating cylinder). This is done in many different ways and thus there are all flavors of immersed boundary methods available. In this notebook, a direct forcing approach will be considered [6]. Direct forcing approach is a brute force technique wherein the $u$ and $v$ velocity points just outside the immersed boundary are determined and its wall velocity is imposed on them. This notebook could serve as a good starting point to understand the basic formulation of Navier-Stokes Solver."
     ]
    },
    {
     "cell_type": "heading",
     "level": 3,
     "metadata": {},
     "source": [
      "2. Conservative form of Navier Stokes Equation"
     ]
    },
    {
     "cell_type": "markdown",
     "metadata": {},
     "source": [
      "Equation 1(a) and (b) represent what is popularly called, the non-conservative form of navier stokes equations. Let us perform some substituion using the following steps,"
     ]
    },
    {
     "cell_type": "markdown",
     "metadata": {},
     "source": [
      "<h4 align=\"center\"> $ {\\dfrac{\\partial u_i}{\\partial t} +u_j \\dfrac{\\partial u_i}{\\partial x_j}=-\\dfrac {1}{\\rho} \\dfrac{\\partial p}{\\partial x_i} + \\nu\\bigtriangledown^2u_i} $ </h4>\n",
      "\n",
      "<h4 align=\"center\"> $ \\implies {\\dfrac{\\partial u_i}{\\partial t} +\\dfrac{\\partial u_i u_j}{\\partial x_j}-u_i \\dfrac{\\partial u_j}{\\partial x_j}=-\\dfrac {1}{\\rho} \\dfrac{\\partial p}{\\partial x_i} + \\nu\\bigtriangledown^2u_i} $ </h4>\n",
      "\n",
      "\n",
      "<h4 align=\"center\"> $  \\implies {\\dfrac{\\partial u_i}{\\partial t} +\\dfrac{\\partial u_i u_j}{\\partial x_j}=-\\dfrac {1}{\\rho} \\dfrac{\\partial p}{\\partial x_i} + \\nu\\bigtriangledown^2u_i}, ({Continuity \\implies \\dfrac{\\partial u_j}{\\partial x_j}=0}) $ </h4>\n",
      "\n",
      "<h4 align=\"center\"> $ Taking, P=\\dfrac {p}{\\rho} $ </h4>\n",
      "\n",
      "<h4 align=\"center\"> $  \\implies {\\dfrac{\\partial u_i}{\\partial t} +\\dfrac{\\partial u_i u_j}{\\partial x_j}=-\\dfrac{\\partial P}{\\partial x_i} + \\nu\\bigtriangledown^2u_i} \\quad\\quad(2)$ </h4>"
     ]
    },
    {
     "cell_type": "markdown",
     "metadata": {},
     "source": [
      "This results in conservative form of Navier-Stokes equation, which is widely used when conservation of energy is an important concern [Ref]. For the problem discussed in this notebook and typically for incompressible flows, using either conservative or non-conservative is acceptable."
     ]
    },
    {
     "cell_type": "heading",
     "level": 3,
     "metadata": {},
     "source": [
      "3. Numerical code on a staggered grid"
     ]
    },
    {
     "cell_type": "markdown",
     "metadata": {},
     "source": [
      "Let us start working on the code. First we import all the neccesary libraries."
     ]
    },
    {
     "cell_type": "code",
     "collapsed": false,
     "input": [
      "import numpy as np\n",
      "import matplotlib.pyplot as plt\n",
      "from math import *\n",
      "from IPython.display import display\n",
      "from IPython.display import Image"
     ],
     "language": "python",
     "metadata": {},
     "outputs": [],
     "prompt_number": 40
    },
    {
     "cell_type": "heading",
     "level": 4,
     "metadata": {},
     "source": [
      "3.1 Grid Generation"
     ]
    },
    {
     "cell_type": "markdown",
     "metadata": {},
     "source": [
      "All the parameters to generate the grid and neccessary global constant are defined"
     ]
    },
    {
     "cell_type": "code",
     "collapsed": false,
     "input": [
      "# Defining Grid Parameters\n",
      "\n",
      "Lx=1. #m\n",
      "Ly=1. #m \n",
      "\n",
      "Nx=50\n",
      "Ny=50\n",
      "\n",
      "dx=Lx/(Nx-1)\n",
      "dy=Ly/(Ny-1)\n",
      "\n",
      "\n",
      "# Defining Global Constants\n",
      "\n",
      "mu=0.01\n",
      "rho=1. #kg/m^3\n",
      "Re=100\n",
      "U=(Re*mu)/Lx\n",
      "\n",
      "\n",
      "w=1.1 # Relaxation factor for poisson solver\n",
      "\n",
      "size=6 # Figure size, will be used for plotting"
     ],
     "language": "python",
     "metadata": {},
     "outputs": [],
     "prompt_number": 41
    },
    {
     "cell_type": "markdown",
     "metadata": {},
     "source": [
      "As discussed earlier, on staggered grids the locations of $u$, $v$ and $P$ are different. While $u$ and $v$ velocities are located on cell faces, the pressure points are on cell centres as seen in the figure below."
     ]
    },
    {
     "cell_type": "code",
     "collapsed": false,
     "input": [
      "display(Image(filename='/home/akash/My_Numerical_Repo/Project_Akash/image12.jpeg'))"
     ],
     "language": "python",
     "metadata": {},
     "outputs": [
      {
       "jpeg": "[encoded data removed]",
       "metadata": {},
       "output_type": "display_data",
       "text": [
        "<IPython.core.display.Image at 0x7f00b672d590>"
       ]
      }
     ],
     "prompt_number": 42
    },
    {
     "cell_type": "markdown",
     "metadata": {},
     "source": [
      "Let's implement this in the code. Starting with defining mesh points "
     ]
    },
    {
     "cell_type": "code",
     "collapsed": false,
     "input": [
      "# Staggered Grid\n",
      "\n",
      "xstart=0\n",
      "ystart=0\n",
      "\n",
      "x=np.zeros((Nx,1),dtype=float)\n",
      "y=np.zeros((Ny,1),dtype=float)\n",
      "\n",
      "for i in range(Nx):\n",
      "    x[i]=xstart+i*dx\n",
      "\n",
      "for j in range(Ny):\n",
      "    y[j]=ystart+j*dy"
     ],
     "language": "python",
     "metadata": {},
     "outputs": [],
     "prompt_number": 43
    },
    {
     "cell_type": "markdown",
     "metadata": {},
     "source": [
      "Next define $u$, $v$, and $P$ points"
     ]
    },
    {
     "cell_type": "code",
     "collapsed": false,
     "input": [
      "# Pressure points\n",
      "xp=np.zeros((Nx+1,1),dtype=float)\n",
      "yp=np.zeros((Ny+1,1),dtype=float)\n",
      "p=np.zeros((Nx+1,Ny+1),dtype=float)\n",
      "\n",
      "# u-velocity points\n",
      "xu=np.zeros((Nx,1),dtype=float)\n",
      "yu=np.zeros((Ny+1,1),dtype=float)\n",
      "u=np.zeros((Nx,Ny+1),dtype=float)\n",
      "ut=np.zeros((Nx,Ny+1),dtype=float)\n",
      "\n",
      "# v-velocity points\n",
      "xv=np.zeros((Nx+1,1),dtype=float)\n",
      "yv=np.zeros((Ny,1),dtype=float)\n",
      "v=np.zeros((Nx+1,Ny),dtype=float)\n",
      "vt=np.zeros((Nx+1,Ny),dtype=float)\n",
      "\n",
      "\n",
      "\n",
      "# Assigning grid values\n",
      "\n",
      "# Pressure points\n",
      "for i in range(1,Nx):\n",
      "    for j in range(1,Ny):\n",
      "        xp[i]=(x[i-1]+x[i])/2\n",
      "        yp[j]=(y[j-1]+y[j])/2\n",
      "\n",
      "xp[0]=xp[1]-dx\n",
      "yp[0]=yp[1]-dy\n",
      "\n",
      "xp[-1]=xp[-2]+dx\n",
      "yp[-1]=yp[-2]+dy\n",
      "\n",
      "# u-velocity points\n",
      "for i in range(Nx):\n",
      "    for j in range(1,Ny):\n",
      "        xu[i]=x[i]\n",
      "        yu[j]=(y[j-1]+y[j])/2\n",
      "\n",
      "xu[0]=xu[1]-dx\n",
      "yu[0]=yu[1]-dy\n",
      "\n",
      "xu[-1]=xu[-2]+dx\n",
      "yu[-1]=yu[-2]+dy\n",
      "\n",
      "# v-velocity points\n",
      "for i in range(1,Nx):\n",
      "    for j in range(Ny):\n",
      "        yv[j]=y[j]\n",
      "        xv[i]=(x[i-1]+x[i])/2;\n",
      "\n",
      "xv[0]=xv[1]-dx;\n",
      "yv[0]=yv[1]-dy;\n",
      "\n",
      "xv[-1]=xv[-2]+dx;\n",
      "yv[-1]=yv[-2]+dy;\n",
      "\n",
      "[X,Y]=np.meshgrid(x,y)\n",
      "\n",
      "# %matplotlib inline\n",
      "\n",
      "# plt.figure(figsize=(size*2, (1.-0)/(1.-0)*(size*2)))\n",
      "# plt.plot(X.T,Y.T,'g')\n",
      "# plt.plot(X,Y,'g')\n",
      "# plt.axis('equal')\n",
      "\n",
      "\n",
      "# for i in range(Nx+1):\n",
      "#    for j in range(Ny+1):\n",
      "#       plt.plot(xp[i],yp[j],'.b')\n",
      "\n",
      "# for i in range(Nx):\n",
      "#    for j in range(Ny+1):\n",
      "#       plt.plot(xu[i],yu[j],'>k')\n",
      "      \n",
      "# for i in range(Nx+1):\n",
      "#    for j in range(Ny):\n",
      "#       plt.plot(xv[i],yv[j],'^m')\n",
      "\n",
      "\n",
      "# plt.show()\n",
      "\n",
      "display(Image(filename='/home/akash/My_Numerical_Repo/Project_Akash/newgrid.png'))"
     ],
     "language": "python",
     "metadata": {},
     "outputs": [
      {
       "metadata": {},
       "output_type": "display_data",
       "png": "[encoded data removed]",
       "text": [
        "<IPython.core.display.Image at 0x7f00b3694e90>"
       ]
      }
     ],
     "prompt_number": 44
    },
    {
     "cell_type": "markdown",
     "metadata": {},
     "source": [
      "So, we have created our staggered grid. Notice the points outside the mesh. These points will act as ghost cells when boundary condition is imposed. The next task is to discretize the navier stokes equation on this staggered grid."
     ]
    },
    {
     "cell_type": "heading",
     "level": 4,
     "metadata": {},
     "source": [
      "3.2 Navier Stokes Solver"
     ]
    },
    {
     "cell_type": "markdown",
     "metadata": {},
     "source": [
      "Starting with conservative form of navier stokes equation, described in equation 2 and using taylor series expansion, the discrete experession is formed. Consider the staggered grid below."
     ]
    },
    {
     "cell_type": "code",
     "collapsed": false,
     "input": [
      "display(Image(filename='/home/akash/My_Numerical_Repo/Project_Akash/ugrid.jpg'))"
     ],
     "language": "python",
     "metadata": {},
     "outputs": [
      {
       "jpeg": "[encoded data removed]",
       "metadata": {},
       "output_type": "display_data",
       "text": [
        "<IPython.core.display.Image at 0x7f00b6a61f90>"
       ]
      }
     ],
     "prompt_number": 45
    },
    {
     "cell_type": "markdown",
     "metadata": {},
     "source": [
      "The discretized equation in $x$-direction can be written as follows"
     ]
    },
    {
     "cell_type": "markdown",
     "metadata": {},
     "source": [
      "<h5 align=\"center\"> $ \\dfrac {u_{i,j}^{n+1}-u_{i,j}^{n}}{\\bigtriangleup t}+\\dfrac {(u_{i+1/2,j}^{n})^2-(u_{i-1/2,j}^{n})^2}{\\bigtriangleup x}+\\dfrac {(u_{i,j+1/2}^{n})(v_{i,j+1/2}^{n})-(u_{i,j-1/2}^{n})(v_{i,j-1/2}^{n})}{\\bigtriangleup y}=-\\dfrac {P_{i+1/2,j}^{n}-P_{i-1/2,j}^{n}}{\\bigtriangleup x}+\\nu \\dfrac{(u_{i+1,j}^{n}+u_{i-1,j}^{n}-2 u_{i,j}^{n})}{{\\bigtriangleup x}^2}+\\nu \\dfrac{(u_{i,j+1}^{n}+u_{i,j-1}^{n}-2 u_{i,j}^{n})}{{\\bigtriangleup y}^2} \\quad (3) $ </h5>"
     ]
    },
    {
     "cell_type": "markdown",
     "metadata": {},
     "source": [
      "$u_{ij}^{n+1}$ obtained from this equation is not divergence free. To insure that the calculated velocities are divergence free, multi-step methods are employed. First, start with calculating a predicted velocity $u_{t_{ij}}^{{n+1}}$ using Hemholtz equation"
     ]
    },
    {
     "cell_type": "markdown",
     "metadata": {},
     "source": [
      "<h4 align=\"center\"> $ \\dfrac {u_{t_{i,j}}^{{n}}-u_{i,j}^{n}}{\\bigtriangleup t}+\\dfrac {(u_{i+1/2,j}^{n})^2-(u_{i-1/2,j}^{n})^2}{\\bigtriangleup x}+\\dfrac {(u_{i,j+1/2}^{n})(v_{i,j+1/2}^{n})-(u_{i,j-1/2}^{n})(v_{i,j-1/2}^{n})}{\\bigtriangleup y}=\\nu \\dfrac{(u_{i+1,j}^{n}+u_{i-1,j}^{n}-2 u_{i,j}^{n})}{{\\bigtriangleup x}^2}+\\nu \\dfrac{(u_{i,j+1}^{n}+u_{i,j-1}^{n}-2 u_{i,j}^{n})}{{\\bigtriangleup y}^2} \\quad (4) $ </h4>"
     ]
    },
    {
     "cell_type": "markdown",
     "metadata": {},
     "source": [
      "<h4 align=\"center\"> $\\implies \\dfrac {u_{t_{i,j}}^{n}-u_{i,j}^{n}}{\\bigtriangleup t}+\\dfrac {(u_{e})^2-(u_{w})^2}{\\bigtriangleup x}+\\dfrac {(u_{n})(v_{n})-(u_{s})(v_{s})}{\\bigtriangleup y}=\\nu \\dfrac{(u_{E}+u_{W}-2 u_{P})}{{\\bigtriangleup x}^2}+\\nu \\dfrac{(u_{N}+u_{S}-2 u_{P})}{{\\bigtriangleup y}^2} \\quad (5) $ </h4>"
     ]
    },
    {
     "cell_type": "markdown",
     "metadata": {},
     "source": [
      "<h4 align=\"center\">$\\implies \\dfrac {u_{t_{i,j}}^{n}-u_{i,j}^{n}}{\\bigtriangleup t}-F1C_{ij}=FV_{ij}\\quad (6) $ </h4>"
     ]
    },
    {
     "cell_type": "markdown",
     "metadata": {},
     "source": [
      "Similarly equations can be written in $y$-direction by replacing function $F1C$ by $F2C$"
     ]
    },
    {
     "cell_type": "code",
     "collapsed": false,
     "input": [
      "# Defining functions for N-S Solver\n",
      "\n",
      "def F1C(ue,uw,us,un,vs,vn,dx,dy):\n",
      "    F1C=-((ue**2)-(uw**2))/dx-((un*vn)-(us*vs))/dy\n",
      "    return F1C\n",
      "\n",
      "def FV(uP,uE,uW,uN,uS,dx,dy,mu):\n",
      "    FV=(mu/dx)*(((uE-uP)/dx)-((uP-uW)/dx))+(mu/dy)*(((uN-uP)/dy)-((uP-uS)/dy))\n",
      "    return FV\n",
      "\n",
      "def F2C(vn,vs,ve,vw,ue,uw,dx,dy):\n",
      "    F2C=-((ue*ve)-(uw*vw))/dx-((vn**2)-(vs**2))/dy\n",
      "    return F2C"
     ],
     "language": "python",
     "metadata": {},
     "outputs": [],
     "prompt_number": 46
    },
    {
     "cell_type": "markdown",
     "metadata": {},
     "source": [
      "Once the predicted velocities are obtained, the corrected velocity is given by,"
     ]
    },
    {
     "cell_type": "markdown",
     "metadata": {},
     "source": [
      "<h4 align=\"center\"> $ \\dfrac {u_{{i,j}}^{n+1}-u_{t_{i,j}}^{n}}{\\bigtriangleup t}=-\\dfrac {P_{i+1/2,j}^{n}-P_{i-1/2,j}^{n}}{\\bigtriangleup x}\\quad (7)$ </h4>"
     ]
    },
    {
     "cell_type": "markdown",
     "metadata": {},
     "source": [
      "Taking divergence of this equation, we obtain the poisson equation for the corrected pressure in terms of only the predicted velocity, making the corrected velocity divergence free. This corrected pressure is plugged back into equation (7) to calculate the corrected velocity. Lets begin solving !"
     ]
    },
    {
     "cell_type": "code",
     "collapsed": false,
     "input": [
      "t=0.\n",
      "tmax=7.\n",
      "dt=.4*min(dx,dy)\n",
      "nt=int((tmax-t)/dt)\n",
      "\n",
      "maxit=100\n",
      "[X,Y]=np.meshgrid(x,y)\n",
      "\n",
      "for tstep in range(nt):\n",
      "\n",
      "    \n",
      "    # Predictor Step\n",
      "    \n",
      "    ue1=(u[1:-1,1:-1]+u[2:,1:-1])/2\n",
      "    uw1=(u[1:-1,1:-1]+u[:-2,1:-1])/2\n",
      "    us1=(u[1:-1,1:-1]+u[1:-1,:-2])/2\n",
      "    un1=(u[1:-1,1:-1]+u[1:-1,2:])/2\n",
      "    vs1=(v[1:-2,:-1]+v[2:-1,:-1])/2\n",
      "    vn1=(v[1:-2,1:]+v[2:-1,1:])/2\n",
      "        \n",
      "    G1=(F1C(ue1,uw1,us1,un1,vs1,vn1,dx,dy)+FV(u[1:-1,1:-1],u[2:,1:-1],u[:-2,1:-1],u[1:-1,2:],u[1:-1,:-2],dx,dy,mu))\n",
      "    ut[1:-1,1:-1]=u[1:-1,1:-1]+(dt/1)*G1\n",
      "\n",
      "    \n",
      "    ve12=(v[1:-1,1:-1]+v[2:,1:-1])/2\n",
      "    vw12=(v[1:-1,1:-1]+v[:-2,1:-1])/2\n",
      "    vs12=(v[1:-1,1:-1]+v[1:-1,:-2])/2\n",
      "    vn12=(v[1:-1,1:-1]+v[1:-1,2:])/2\n",
      "    us12=(u[:-1,1:-2]+u[:-1,2:-1])/2\n",
      "    un12=(u[1:,1:-2]+u[1:,2:-1])/2\n",
      "        \n",
      "    G2=(F2C(ve12,vw12,vs12,vn12,us12,un12,dx,dy)+FV(v[1:-1,1:-1],v[2:,1:-1],v[:-2,1:-1],\\\n",
      "                             v[1:-1,2:],v[1:-1,:-2],dx,dy,mu))\n",
      "    vt[1:-1,1:-1]=v[1:-1,1:-1]+(dt/1)*G2    \n",
      "    \n",
      "\n",
      "    \n",
      "    # Boundary Conditions for predicted velocities\n",
      "    ut[:,0]=2*0-ut[:,1]\n",
      "    ut[:,-1]=2*U-ut[:,-2]\n",
      "    \n",
      "    \n",
      "    vt[0,:]=0-vt[1,:]\n",
      "    vt[-1,:]=0-vt[-2,:]\n",
      "\n",
      "    \n",
      "    # Pressure Poisson Solver\n",
      "    \n",
      "    for it in range(maxit):\n",
      "        for i in range(1,Nx):\n",
      "            for j in range(1,Ny):\n",
      "                p[i][j]=w*0.25*(p[i][j+1]+p[i][j-1]+p[i+1][j]+p[i-1][j]-(1*dy/(dt))*(vt[i][j]-vt[i][j-1])-\\\n",
      "                       (1*dx/(dt))*(ut[i][j]-ut[i-1][j]))+(1-w)*p[i][j]    \n",
      "        \n",
      "        p[:,0]=p[:,1]\n",
      "        p[:,-1]=p[:,-2]\n",
      "\n",
      "        p[0,:]=p[1,:]\n",
      "        p[-1,:]=p[-2,:]\n",
      "    \n",
      "    # Corrector Step\n",
      "    \n",
      "    u[1:-1,1:-1]=ut[1:-1,1:-1]-(dt/(1*dx))*(p[2:-1,1:-1]-p[1:-2,1:-1])\n",
      "    v[1:-1,1:-1]=vt[1:-1,1:-1]-(dt/(1*dy))*(p[1:-1,2:-1]-p[1:-1,1:-2])\n",
      "\n",
      "    \n",
      "    # Boundary Conditions for Correct Velocities\n",
      "    u[:,0]=2*0-u[:,1]\n",
      "    u[:,-1]=2*U-u[:,-2]\n",
      "    \n",
      "    \n",
      "    v[0,:]=0-v[1,:]\n",
      "    v[-1,:]=0-v[-2,:]\n",
      "\n",
      "uu=(u[:,:-1]+u[:,1:])*0.5\n",
      "vv=(v[:-1,:]+v[1:,:])*0.5\n",
      "\n",
      "uu=uu.T\n",
      "vv=vv.T"
     ],
     "language": "python",
     "metadata": {},
     "outputs": [
      {
       "ename": "KeyboardInterrupt",
       "evalue": "",
       "output_type": "pyerr",
       "traceback": [
        "\u001b[0;31m---------------------------------------------------------------------------\u001b[0m\n\u001b[0;31mKeyboardInterrupt\u001b[0m                         Traceback (most recent call last)",
        "\u001b[0;32m<ipython-input-47-8a385018c9a7>\u001b[0m in \u001b[0;36m<module>\u001b[0;34m()\u001b[0m\n\u001b[1;32m     49\u001b[0m         \u001b[0;32mfor\u001b[0m \u001b[0mi\u001b[0m \u001b[0;32min\u001b[0m \u001b[0mrange\u001b[0m\u001b[0;34m(\u001b[0m\u001b[0;36m1\u001b[0m\u001b[0;34m,\u001b[0m\u001b[0mNx\u001b[0m\u001b[0;34m)\u001b[0m\u001b[0;34m:\u001b[0m\u001b[0;34m\u001b[0m\u001b[0m\n\u001b[1;32m     50\u001b[0m             \u001b[0;32mfor\u001b[0m \u001b[0mj\u001b[0m \u001b[0;32min\u001b[0m \u001b[0mrange\u001b[0m\u001b[0;34m(\u001b[0m\u001b[0;36m1\u001b[0m\u001b[0;34m,\u001b[0m\u001b[0mNy\u001b[0m\u001b[0;34m)\u001b[0m\u001b[0;34m:\u001b[0m\u001b[0;34m\u001b[0m\u001b[0m\n\u001b[0;32m---> 51\u001b[0;31m                 \u001b[0mp\u001b[0m\u001b[0;34m[\u001b[0m\u001b[0mi\u001b[0m\u001b[0;34m]\u001b[0m\u001b[0;34m[\u001b[0m\u001b[0mj\u001b[0m\u001b[0;34m]\u001b[0m\u001b[0;34m=\u001b[0m\u001b[0mw\u001b[0m\u001b[0;34m*\u001b[0m\u001b[0;36m0.25\u001b[0m\u001b[0;34m*\u001b[0m\u001b[0;34m(\u001b[0m\u001b[0mp\u001b[0m\u001b[0;34m[\u001b[0m\u001b[0mi\u001b[0m\u001b[0;34m]\u001b[0m\u001b[0;34m[\u001b[0m\u001b[0mj\u001b[0m\u001b[0;34m+\u001b[0m\u001b[0;36m1\u001b[0m\u001b[0;34m]\u001b[0m\u001b[0;34m+\u001b[0m\u001b[0mp\u001b[0m\u001b[0;34m[\u001b[0m\u001b[0mi\u001b[0m\u001b[0;34m]\u001b[0m\u001b[0;34m[\u001b[0m\u001b[0mj\u001b[0m\u001b[0;34m-\u001b[0m\u001b[0;36m1\u001b[0m\u001b[0;34m]\u001b[0m\u001b[0;34m+\u001b[0m\u001b[0mp\u001b[0m\u001b[0;34m[\u001b[0m\u001b[0mi\u001b[0m\u001b[0;34m+\u001b[0m\u001b[0;36m1\u001b[0m\u001b[0;34m]\u001b[0m\u001b[0;34m[\u001b[0m\u001b[0mj\u001b[0m\u001b[0;34m]\u001b[0m\u001b[0;34m+\u001b[0m\u001b[0mp\u001b[0m\u001b[0;34m[\u001b[0m\u001b[0mi\u001b[0m\u001b[0;34m-\u001b[0m\u001b[0;36m1\u001b[0m\u001b[0;34m]\u001b[0m\u001b[0;34m[\u001b[0m\u001b[0mj\u001b[0m\u001b[0;34m]\u001b[0m\u001b[0;34m-\u001b[0m\u001b[0;34m(\u001b[0m\u001b[0;36m1\u001b[0m\u001b[0;34m*\u001b[0m\u001b[0mdy\u001b[0m\u001b[0;34m/\u001b[0m\u001b[0;34m(\u001b[0m\u001b[0mdt\u001b[0m\u001b[0;34m)\u001b[0m\u001b[0;34m)\u001b[0m\u001b[0;34m*\u001b[0m\u001b[0;34m(\u001b[0m\u001b[0mvt\u001b[0m\u001b[0;34m[\u001b[0m\u001b[0mi\u001b[0m\u001b[0;34m]\u001b[0m\u001b[0;34m[\u001b[0m\u001b[0mj\u001b[0m\u001b[0;34m]\u001b[0m\u001b[0;34m-\u001b[0m\u001b[0mvt\u001b[0m\u001b[0;34m[\u001b[0m\u001b[0mi\u001b[0m\u001b[0;34m]\u001b[0m\u001b[0;34m[\u001b[0m\u001b[0mj\u001b[0m\u001b[0;34m-\u001b[0m\u001b[0;36m1\u001b[0m\u001b[0;34m]\u001b[0m\u001b[0;34m)\u001b[0m\u001b[0;34m-\u001b[0m                       \u001b[0;34m(\u001b[0m\u001b[0;36m1\u001b[0m\u001b[0;34m*\u001b[0m\u001b[0mdx\u001b[0m\u001b[0;34m/\u001b[0m\u001b[0;34m(\u001b[0m\u001b[0mdt\u001b[0m\u001b[0;34m)\u001b[0m\u001b[0;34m)\u001b[0m\u001b[0;34m*\u001b[0m\u001b[0;34m(\u001b[0m\u001b[0mut\u001b[0m\u001b[0;34m[\u001b[0m\u001b[0mi\u001b[0m\u001b[0;34m]\u001b[0m\u001b[0;34m[\u001b[0m\u001b[0mj\u001b[0m\u001b[0;34m]\u001b[0m\u001b[0;34m-\u001b[0m\u001b[0mut\u001b[0m\u001b[0;34m[\u001b[0m\u001b[0mi\u001b[0m\u001b[0;34m-\u001b[0m\u001b[0;36m1\u001b[0m\u001b[0;34m]\u001b[0m\u001b[0;34m[\u001b[0m\u001b[0mj\u001b[0m\u001b[0;34m]\u001b[0m\u001b[0;34m)\u001b[0m\u001b[0;34m)\u001b[0m\u001b[0;34m+\u001b[0m\u001b[0;34m(\u001b[0m\u001b[0;36m1\u001b[0m\u001b[0;34m-\u001b[0m\u001b[0mw\u001b[0m\u001b[0;34m)\u001b[0m\u001b[0;34m*\u001b[0m\u001b[0mp\u001b[0m\u001b[0;34m[\u001b[0m\u001b[0mi\u001b[0m\u001b[0;34m]\u001b[0m\u001b[0;34m[\u001b[0m\u001b[0mj\u001b[0m\u001b[0;34m]\u001b[0m\u001b[0;34m\u001b[0m\u001b[0m\n\u001b[0m\u001b[1;32m     52\u001b[0m \u001b[0;34m\u001b[0m\u001b[0m\n\u001b[1;32m     53\u001b[0m         \u001b[0mp\u001b[0m\u001b[0;34m[\u001b[0m\u001b[0;34m:\u001b[0m\u001b[0;34m,\u001b[0m\u001b[0;36m0\u001b[0m\u001b[0;34m]\u001b[0m\u001b[0;34m=\u001b[0m\u001b[0mp\u001b[0m\u001b[0;34m[\u001b[0m\u001b[0;34m:\u001b[0m\u001b[0;34m,\u001b[0m\u001b[0;36m1\u001b[0m\u001b[0;34m]\u001b[0m\u001b[0;34m\u001b[0m\u001b[0m\n",
        "\u001b[0;31mKeyboardInterrupt\u001b[0m: "
       ]
      }
     ],
     "prompt_number": 47
    },
    {
     "cell_type": "markdown",
     "metadata": {},
     "source": [
      "Post processing, data visualization and validation"
     ]
    },
    {
     "cell_type": "code",
     "collapsed": false,
     "input": [
      "%matplotlib inline\n",
      "\n",
      "plt.figure(figsize=(size, (1.-0)/(1.-0)*size))\n",
      "plt.contourf(X,Y,np.sqrt(uu**2+vv**2))\n",
      "plt.axis('equal')\n",
      "plt.show()\n",
      "\n",
      "plt.figure(figsize=(size, (1.-0)/(1.-0)*size))\n",
      "plt.plot([0,0,1,1,0],[0,1,1,0,0],'k')\n",
      "plt.streamplot(X, Y, uu, vv, density=3, arrowsize=1, arrowstyle='->')\n",
      "plt.axis([0, 1, 0, 1])\n",
      "plt.show()"
     ],
     "language": "python",
     "metadata": {},
     "outputs": [
      {
       "ename": "TypeError",
       "evalue": "Shape of x does not match that of z: found (50, 50) instead of (75, 75).",
       "output_type": "pyerr",
       "traceback": [
        "\u001b[0;31m---------------------------------------------------------------------------\u001b[0m\n\u001b[0;31mTypeError\u001b[0m                                 Traceback (most recent call last)",
        "\u001b[0;32m<ipython-input-48-b2d119210304>\u001b[0m in \u001b[0;36m<module>\u001b[0;34m()\u001b[0m\n\u001b[1;32m      2\u001b[0m \u001b[0;34m\u001b[0m\u001b[0m\n\u001b[1;32m      3\u001b[0m \u001b[0mplt\u001b[0m\u001b[0;34m.\u001b[0m\u001b[0mfigure\u001b[0m\u001b[0;34m(\u001b[0m\u001b[0mfigsize\u001b[0m\u001b[0;34m=\u001b[0m\u001b[0;34m(\u001b[0m\u001b[0msize\u001b[0m\u001b[0;34m,\u001b[0m \u001b[0;34m(\u001b[0m\u001b[0;36m1.\u001b[0m\u001b[0;34m-\u001b[0m\u001b[0;36m0\u001b[0m\u001b[0;34m)\u001b[0m\u001b[0;34m/\u001b[0m\u001b[0;34m(\u001b[0m\u001b[0;36m1.\u001b[0m\u001b[0;34m-\u001b[0m\u001b[0;36m0\u001b[0m\u001b[0;34m)\u001b[0m\u001b[0;34m*\u001b[0m\u001b[0msize\u001b[0m\u001b[0;34m)\u001b[0m\u001b[0;34m)\u001b[0m\u001b[0;34m\u001b[0m\u001b[0m\n\u001b[0;32m----> 4\u001b[0;31m \u001b[0mplt\u001b[0m\u001b[0;34m.\u001b[0m\u001b[0mcontourf\u001b[0m\u001b[0;34m(\u001b[0m\u001b[0mX\u001b[0m\u001b[0;34m,\u001b[0m\u001b[0mY\u001b[0m\u001b[0;34m,\u001b[0m\u001b[0mnp\u001b[0m\u001b[0;34m.\u001b[0m\u001b[0msqrt\u001b[0m\u001b[0;34m(\u001b[0m\u001b[0muu\u001b[0m\u001b[0;34m**\u001b[0m\u001b[0;36m2\u001b[0m\u001b[0;34m+\u001b[0m\u001b[0mvv\u001b[0m\u001b[0;34m**\u001b[0m\u001b[0;36m2\u001b[0m\u001b[0;34m)\u001b[0m\u001b[0;34m)\u001b[0m\u001b[0;34m\u001b[0m\u001b[0m\n\u001b[0m\u001b[1;32m      5\u001b[0m \u001b[0mplt\u001b[0m\u001b[0;34m.\u001b[0m\u001b[0maxis\u001b[0m\u001b[0;34m(\u001b[0m\u001b[0;34m'equal'\u001b[0m\u001b[0;34m)\u001b[0m\u001b[0;34m\u001b[0m\u001b[0m\n\u001b[1;32m      6\u001b[0m \u001b[0mplt\u001b[0m\u001b[0;34m.\u001b[0m\u001b[0mshow\u001b[0m\u001b[0;34m(\u001b[0m\u001b[0;34m)\u001b[0m\u001b[0;34m\u001b[0m\u001b[0m\n",
        "\u001b[0;32m/usr/lib/pymodules/python2.7/matplotlib/pyplot.pyc\u001b[0m in \u001b[0;36mcontourf\u001b[0;34m(*args, **kwargs)\u001b[0m\n\u001b[1;32m   2648\u001b[0m         \u001b[0max\u001b[0m\u001b[0;34m.\u001b[0m\u001b[0mhold\u001b[0m\u001b[0;34m(\u001b[0m\u001b[0mhold\u001b[0m\u001b[0;34m)\u001b[0m\u001b[0;34m\u001b[0m\u001b[0m\n\u001b[1;32m   2649\u001b[0m     \u001b[0;32mtry\u001b[0m\u001b[0;34m:\u001b[0m\u001b[0;34m\u001b[0m\u001b[0m\n\u001b[0;32m-> 2650\u001b[0;31m         \u001b[0mret\u001b[0m \u001b[0;34m=\u001b[0m \u001b[0max\u001b[0m\u001b[0;34m.\u001b[0m\u001b[0mcontourf\u001b[0m\u001b[0;34m(\u001b[0m\u001b[0;34m*\u001b[0m\u001b[0margs\u001b[0m\u001b[0;34m,\u001b[0m \u001b[0;34m**\u001b[0m\u001b[0mkwargs\u001b[0m\u001b[0;34m)\u001b[0m\u001b[0;34m\u001b[0m\u001b[0m\n\u001b[0m\u001b[1;32m   2651\u001b[0m         \u001b[0mdraw_if_interactive\u001b[0m\u001b[0;34m(\u001b[0m\u001b[0;34m)\u001b[0m\u001b[0;34m\u001b[0m\u001b[0m\n\u001b[1;32m   2652\u001b[0m     \u001b[0;32mfinally\u001b[0m\u001b[0;34m:\u001b[0m\u001b[0;34m\u001b[0m\u001b[0m\n",
        "\u001b[0;32m/usr/lib/pymodules/python2.7/matplotlib/axes.pyc\u001b[0m in \u001b[0;36mcontourf\u001b[0;34m(self, *args, **kwargs)\u001b[0m\n\u001b[1;32m   7981\u001b[0m             \u001b[0mself\u001b[0m\u001b[0;34m.\u001b[0m\u001b[0mcla\u001b[0m\u001b[0;34m(\u001b[0m\u001b[0;34m)\u001b[0m\u001b[0;34m\u001b[0m\u001b[0m\n\u001b[1;32m   7982\u001b[0m         \u001b[0mkwargs\u001b[0m\u001b[0;34m[\u001b[0m\u001b[0;34m'filled'\u001b[0m\u001b[0;34m]\u001b[0m \u001b[0;34m=\u001b[0m \u001b[0mTrue\u001b[0m\u001b[0;34m\u001b[0m\u001b[0m\n\u001b[0;32m-> 7983\u001b[0;31m         \u001b[0;32mreturn\u001b[0m \u001b[0mmcontour\u001b[0m\u001b[0;34m.\u001b[0m\u001b[0mQuadContourSet\u001b[0m\u001b[0;34m(\u001b[0m\u001b[0mself\u001b[0m\u001b[0;34m,\u001b[0m \u001b[0;34m*\u001b[0m\u001b[0margs\u001b[0m\u001b[0;34m,\u001b[0m \u001b[0;34m**\u001b[0m\u001b[0mkwargs\u001b[0m\u001b[0;34m)\u001b[0m\u001b[0;34m\u001b[0m\u001b[0m\n\u001b[0m\u001b[1;32m   7984\u001b[0m     \u001b[0mcontourf\u001b[0m\u001b[0;34m.\u001b[0m\u001b[0m__doc__\u001b[0m \u001b[0;34m=\u001b[0m \u001b[0mmcontour\u001b[0m\u001b[0;34m.\u001b[0m\u001b[0mQuadContourSet\u001b[0m\u001b[0;34m.\u001b[0m\u001b[0mcontour_doc\u001b[0m\u001b[0;34m\u001b[0m\u001b[0m\n\u001b[1;32m   7985\u001b[0m \u001b[0;34m\u001b[0m\u001b[0m\n",
        "\u001b[0;32m/usr/lib/pymodules/python2.7/matplotlib/contour.pyc\u001b[0m in \u001b[0;36m__init__\u001b[0;34m(self, ax, *args, **kwargs)\u001b[0m\n\u001b[1;32m   1412\u001b[0m         \u001b[0mare\u001b[0m \u001b[0mdescribed\u001b[0m \u001b[0;32min\u001b[0m \u001b[0mQuadContourSet\u001b[0m\u001b[0;34m.\u001b[0m\u001b[0mcontour_doc\u001b[0m\u001b[0;34m.\u001b[0m\u001b[0;34m\u001b[0m\u001b[0m\n\u001b[1;32m   1413\u001b[0m         \"\"\"\n\u001b[0;32m-> 1414\u001b[0;31m         \u001b[0mContourSet\u001b[0m\u001b[0;34m.\u001b[0m\u001b[0m__init__\u001b[0m\u001b[0;34m(\u001b[0m\u001b[0mself\u001b[0m\u001b[0;34m,\u001b[0m \u001b[0max\u001b[0m\u001b[0;34m,\u001b[0m \u001b[0;34m*\u001b[0m\u001b[0margs\u001b[0m\u001b[0;34m,\u001b[0m \u001b[0;34m**\u001b[0m\u001b[0mkwargs\u001b[0m\u001b[0;34m)\u001b[0m\u001b[0;34m\u001b[0m\u001b[0m\n\u001b[0m\u001b[1;32m   1415\u001b[0m \u001b[0;34m\u001b[0m\u001b[0m\n\u001b[1;32m   1416\u001b[0m     \u001b[0;32mdef\u001b[0m \u001b[0m_process_args\u001b[0m\u001b[0;34m(\u001b[0m\u001b[0mself\u001b[0m\u001b[0;34m,\u001b[0m \u001b[0;34m*\u001b[0m\u001b[0margs\u001b[0m\u001b[0;34m,\u001b[0m \u001b[0;34m**\u001b[0m\u001b[0mkwargs\u001b[0m\u001b[0;34m)\u001b[0m\u001b[0;34m:\u001b[0m\u001b[0;34m\u001b[0m\u001b[0m\n",
        "\u001b[0;32m/usr/lib/pymodules/python2.7/matplotlib/contour.pyc\u001b[0m in \u001b[0;36m__init__\u001b[0;34m(self, ax, *args, **kwargs)\u001b[0m\n\u001b[1;32m    858\u001b[0m         \u001b[0mself\u001b[0m\u001b[0;34m.\u001b[0m\u001b[0m_transform\u001b[0m \u001b[0;34m=\u001b[0m \u001b[0mkwargs\u001b[0m\u001b[0;34m.\u001b[0m\u001b[0mget\u001b[0m\u001b[0;34m(\u001b[0m\u001b[0;34m'transform'\u001b[0m\u001b[0;34m,\u001b[0m \u001b[0mNone\u001b[0m\u001b[0;34m)\u001b[0m\u001b[0;34m\u001b[0m\u001b[0m\n\u001b[1;32m    859\u001b[0m \u001b[0;34m\u001b[0m\u001b[0m\n\u001b[0;32m--> 860\u001b[0;31m         \u001b[0mself\u001b[0m\u001b[0;34m.\u001b[0m\u001b[0m_process_args\u001b[0m\u001b[0;34m(\u001b[0m\u001b[0;34m*\u001b[0m\u001b[0margs\u001b[0m\u001b[0;34m,\u001b[0m \u001b[0;34m**\u001b[0m\u001b[0mkwargs\u001b[0m\u001b[0;34m)\u001b[0m\u001b[0;34m\u001b[0m\u001b[0m\n\u001b[0m\u001b[1;32m    861\u001b[0m         \u001b[0mself\u001b[0m\u001b[0;34m.\u001b[0m\u001b[0m_process_levels\u001b[0m\u001b[0;34m(\u001b[0m\u001b[0;34m)\u001b[0m\u001b[0;34m\u001b[0m\u001b[0m\n\u001b[1;32m    862\u001b[0m \u001b[0;34m\u001b[0m\u001b[0m\n",
        "\u001b[0;32m/usr/lib/pymodules/python2.7/matplotlib/contour.pyc\u001b[0m in \u001b[0;36m_process_args\u001b[0;34m(self, *args, **kwargs)\u001b[0m\n\u001b[1;32m   1425\u001b[0m             \u001b[0mself\u001b[0m\u001b[0;34m.\u001b[0m\u001b[0mzmax\u001b[0m \u001b[0;34m=\u001b[0m \u001b[0margs\u001b[0m\u001b[0;34m[\u001b[0m\u001b[0;36m0\u001b[0m\u001b[0;34m]\u001b[0m\u001b[0;34m.\u001b[0m\u001b[0mzmax\u001b[0m\u001b[0;34m\u001b[0m\u001b[0m\n\u001b[1;32m   1426\u001b[0m         \u001b[0;32melse\u001b[0m\u001b[0;34m:\u001b[0m\u001b[0;34m\u001b[0m\u001b[0m\n\u001b[0;32m-> 1427\u001b[0;31m             \u001b[0mx\u001b[0m\u001b[0;34m,\u001b[0m \u001b[0my\u001b[0m\u001b[0;34m,\u001b[0m \u001b[0mz\u001b[0m \u001b[0;34m=\u001b[0m \u001b[0mself\u001b[0m\u001b[0;34m.\u001b[0m\u001b[0m_contour_args\u001b[0m\u001b[0;34m(\u001b[0m\u001b[0margs\u001b[0m\u001b[0;34m,\u001b[0m \u001b[0mkwargs\u001b[0m\u001b[0;34m)\u001b[0m\u001b[0;34m\u001b[0m\u001b[0m\n\u001b[0m\u001b[1;32m   1428\u001b[0m \u001b[0;34m\u001b[0m\u001b[0m\n\u001b[1;32m   1429\u001b[0m             \u001b[0m_mask\u001b[0m \u001b[0;34m=\u001b[0m \u001b[0mma\u001b[0m\u001b[0;34m.\u001b[0m\u001b[0mgetmask\u001b[0m\u001b[0;34m(\u001b[0m\u001b[0mz\u001b[0m\u001b[0;34m)\u001b[0m\u001b[0;34m\u001b[0m\u001b[0m\n",
        "\u001b[0;32m/usr/lib/pymodules/python2.7/matplotlib/contour.pyc\u001b[0m in \u001b[0;36m_contour_args\u001b[0;34m(self, args, kwargs)\u001b[0m\n\u001b[1;32m   1489\u001b[0m             \u001b[0margs\u001b[0m \u001b[0;34m=\u001b[0m \u001b[0margs\u001b[0m\u001b[0;34m[\u001b[0m\u001b[0;36m1\u001b[0m\u001b[0;34m:\u001b[0m\u001b[0;34m]\u001b[0m\u001b[0;34m\u001b[0m\u001b[0m\n\u001b[1;32m   1490\u001b[0m         \u001b[0;32melif\u001b[0m \u001b[0mNargs\u001b[0m \u001b[0;34m<=\u001b[0m \u001b[0;36m4\u001b[0m\u001b[0;34m:\u001b[0m\u001b[0;34m\u001b[0m\u001b[0m\n\u001b[0;32m-> 1491\u001b[0;31m             \u001b[0mx\u001b[0m\u001b[0;34m,\u001b[0m \u001b[0my\u001b[0m\u001b[0;34m,\u001b[0m \u001b[0mz\u001b[0m \u001b[0;34m=\u001b[0m \u001b[0mself\u001b[0m\u001b[0;34m.\u001b[0m\u001b[0m_check_xyz\u001b[0m\u001b[0;34m(\u001b[0m\u001b[0margs\u001b[0m\u001b[0;34m[\u001b[0m\u001b[0;34m:\u001b[0m\u001b[0;36m3\u001b[0m\u001b[0;34m]\u001b[0m\u001b[0;34m,\u001b[0m \u001b[0mkwargs\u001b[0m\u001b[0;34m)\u001b[0m\u001b[0;34m\u001b[0m\u001b[0m\n\u001b[0m\u001b[1;32m   1492\u001b[0m             \u001b[0margs\u001b[0m \u001b[0;34m=\u001b[0m \u001b[0margs\u001b[0m\u001b[0;34m[\u001b[0m\u001b[0;36m3\u001b[0m\u001b[0;34m:\u001b[0m\u001b[0;34m]\u001b[0m\u001b[0;34m\u001b[0m\u001b[0m\n\u001b[1;32m   1493\u001b[0m         \u001b[0;32melse\u001b[0m\u001b[0;34m:\u001b[0m\u001b[0;34m\u001b[0m\u001b[0m\n",
        "\u001b[0;32m/usr/lib/pymodules/python2.7/matplotlib/contour.pyc\u001b[0m in \u001b[0;36m_check_xyz\u001b[0;34m(self, args, kwargs)\u001b[0m\n\u001b[1;32m   1547\u001b[0m             \u001b[0;32mif\u001b[0m \u001b[0mx\u001b[0m\u001b[0;34m.\u001b[0m\u001b[0mshape\u001b[0m \u001b[0;34m!=\u001b[0m \u001b[0mz\u001b[0m\u001b[0;34m.\u001b[0m\u001b[0mshape\u001b[0m\u001b[0;34m:\u001b[0m\u001b[0;34m\u001b[0m\u001b[0m\n\u001b[1;32m   1548\u001b[0m                 raise TypeError(\"Shape of x does not match that of z: found \"\n\u001b[0;32m-> 1549\u001b[0;31m                                 \"{0} instead of {1}.\".format(x.shape, z.shape))\n\u001b[0m\u001b[1;32m   1550\u001b[0m \u001b[0;34m\u001b[0m\u001b[0m\n\u001b[1;32m   1551\u001b[0m             \u001b[0;32mif\u001b[0m \u001b[0my\u001b[0m\u001b[0;34m.\u001b[0m\u001b[0mshape\u001b[0m \u001b[0;34m!=\u001b[0m \u001b[0mz\u001b[0m\u001b[0;34m.\u001b[0m\u001b[0mshape\u001b[0m\u001b[0;34m:\u001b[0m\u001b[0;34m\u001b[0m\u001b[0m\n",
        "\u001b[0;31mTypeError\u001b[0m: Shape of x does not match that of z: found (50, 50) instead of (75, 75)."
       ]
      },
      {
       "metadata": {},
       "output_type": "display_data",
       "png": "[encoded data removed]",
       "text": [
        "<matplotlib.figure.Figure at 0x7f00b71a4150>"
       ]
      }
     ],
     "prompt_number": 48
    },
    {
     "cell_type": "markdown",
     "metadata": {},
     "source": [
      "These results can be validated with those obtained by Ghia and Idris.et.al"
     ]
    },
    {
     "cell_type": "markdown",
     "metadata": {},
     "source": [
      "Further accuracy can be obtained by using RK-3 and Adam-Bashforth time marching schemes. Further discussion on these methods can be found in [Ref]."
     ]
    },
    {
     "cell_type": "heading",
     "level": 3,
     "metadata": {},
     "source": [
      "Immersed boundary method - Direct forcing apporach"
     ]
    },
    {
     "cell_type": "markdown",
     "metadata": {},
     "source": [
      "Cartesian girds are very computationally efficient and their application to parallel programming is quite straight forward [Ref]. Thus, to utilize this property of a cartesian grid, immersed boundary methods are used. \n",
      "\n",
      "Consider a cylinder in the middle of the domain of a lid driven cavity, with a radius of 0.1 m. "
     ]
    },
    {
     "cell_type": "code",
     "collapsed": false,
     "input": [
      "r=0.1 #m # Cylinder radius\n",
      "L=2*r \n",
      "\n",
      "dis=np.linspace(0.,pi,20)\n",
      "xcircle=0.5+r*np.cos(dis)\n",
      "ycircle=np.sqrt(r**2-(xcircle-0.5)**2)\n",
      "\n",
      "xcircle=np.concatenate([xcircle,xcircle[::-1]])\n",
      "ycircle=np.concatenate([ycircle,-ycircle[::-1]])\n",
      "\n",
      "ycircle=ycircle+0.5\n",
      "\n",
      "%matplotlib inline\n",
      "\n",
      "plt.figure(figsize=(size, (1.-0)/(1.-0)*size))\n",
      "plt.plot(X.T,Y.T,'g')\n",
      "plt.plot(X,Y,'g')\n",
      "plt.plot(xcircle,ycircle,'k')\n",
      "plt.axis('equal')\n",
      "plt.show()"
     ],
     "language": "python",
     "metadata": {},
     "outputs": []
    },
    {
     "cell_type": "markdown",
     "metadata": {},
     "source": [
      "There are various apporaches of an immersed boundary method. In this notebook, as discussed earlier, direct forcing apporach is used. In this approach, all the $u$ and $v$ velocity points just outside the immersed boundary and its wall velocity is imposed on those points after the predictor step.\n",
      "\n",
      "First, all the points inside the body are determined using it's equation."
     ]
    },
    {
     "cell_type": "code",
     "collapsed": false,
     "input": [
      "iu=[]\n",
      "for i in range(len(xu)):\n",
      "    for j in range(len(yu)):\n",
      "        if(sqrt((xu[i]-0.5)**2+(yu[j]-0.5)**2)<=r):\n",
      "            iu.append([i,j])\n",
      "\n",
      "iu=np.asarray(iu)\n",
      "\n",
      "iv=[]\n",
      "for i in range(len(xv)):\n",
      "    for j in range(len(yv)):\n",
      "        if(sqrt((xv[i]-0.5)**2+(yv[j]-0.5)**2)<=r):\n",
      "            iv.append([i,j])\n",
      "            \n",
      "iv=np.asarray(iv)"
     ],
     "language": "python",
     "metadata": {},
     "outputs": []
    },
    {
     "cell_type": "markdown",
     "metadata": {},
     "source": [
      "Next the points outside the solid body are determined. For this, a special function where() from numpy library is used, which returns the indices of array elements where a given condition is satisfied."
     ]
    },
    {
     "cell_type": "code",
     "collapsed": false,
     "input": [
      "bul=min(iu[:,0])\n",
      "bur=max(iu[:,0])\n",
      "bub=min(iu[:,1])\n",
      "but=max(iu[:,1])\n",
      "\n",
      "cux=np.linspace(bul,bur,bur-bul+1)\n",
      "\n",
      "bu=[]\n",
      "\n",
      "for i in range(len(cux)):\n",
      "    \n",
      "    ind=np.where(iu[:,0]==cux[i])\n",
      "    \n",
      "    Min=iu[ind[0][0]][1]\n",
      "    Max=iu[ind[0][0]][1]\n",
      "    \n",
      "    for j in range(len(ind[0])):\n",
      "        if(iu[ind[0][j]][1]<Min):\n",
      "            Min=iu[ind[0][j]][1]\n",
      "        if(iu[ind[0][j]][1]>Max):\n",
      "            Max=iu[ind[0][j]][1]\n",
      "        \n",
      "    bu.append([cux[i],Min-1])\n",
      "    bu.append([cux[i],Max+1])\n",
      "\n",
      "cuy=np.linspace(bub,but,but-bub+1)\n",
      "\n",
      "for i in range(len(cuy)):\n",
      "    \n",
      "    ind=np.where(iu[:,1]==cuy[i])\n",
      "    \n",
      "    Min=iu[ind[0][0]][0]\n",
      "    Max=iu[ind[0][0]][0]\n",
      "    \n",
      "    for j in range(len(ind[0])):\n",
      "        if(iu[ind[0][j]][0]<Min):\n",
      "            Min=iu[ind[0][j]][0]\n",
      "        if(iu[ind[0][j]][0]>Max):\n",
      "            Max=iu[ind[0][j]][0]\n",
      "    \n",
      "    bu.append([Min-1,cuy[i]])\n",
      "    bu.append([Max+1,cuy[i]])\n",
      "\n",
      "\n",
      "\n",
      "bu=np.asarray(bu)\n",
      "\n",
      "%matplotlib inline\n",
      "\n",
      "plt.figure(figsize=(size, (1.-0)/(1.-0)*size))\n",
      "plt.plot(X.T,Y.T,'g')\n",
      "plt.plot(X,Y,'g')\n",
      "plt.plot(xcircle,ycircle,'k')\n",
      "plt.axis('equal')\n",
      "\n",
      "\n",
      "for i in range(len(bu)):\n",
      "    plt.plot(xu[bu[i,0]],yu[bu[i,1]],'.b')\n",
      " \n",
      "\n",
      "bvl=min(iv[:,0])\n",
      "bvr=max(iv[:,0])\n",
      "bvb=min(iv[:,1])\n",
      "bvt=max(iv[:,1])\n",
      "\n",
      "cvx=np.linspace(bvl,bvr,bvr-bvl+1)\n",
      "\n",
      "bv=[]\n",
      "\n",
      "for i in range(len(cvx)):\n",
      "    \n",
      "    ind=np.where(iv[:,0]==cvx[i])\n",
      "    \n",
      "    Min=iv[ind[0][0]][1]\n",
      "    Max=iv[ind[0][0]][1]\n",
      "    \n",
      "    for j in range(len(ind[0])):\n",
      "        if(iv[ind[0][j]][1]<Min):\n",
      "            Min=iv[ind[0][j]][1]\n",
      "        if(iv[ind[0][j]][1]>Max):\n",
      "            Max=iv[ind[0][j]][1]\n",
      "        \n",
      "    bv.append([cvx[i],Min-1])\n",
      "    bv.append([cvx[i],Max+1])\n",
      "\n",
      "cvy=np.linspace(bvb,bvt,bvt-bvb+1)\n",
      "\n",
      "for i in range(len(cvy)):\n",
      "    \n",
      "    ind=np.where(iv[:,1]==cvy[i])\n",
      "    \n",
      "    Min=iv[ind[0][0]][0]\n",
      "    Max=iv[ind[0][0]][0]\n",
      "    \n",
      "    for j in range(len(ind[0])):\n",
      "        if(iv[ind[0][j]][0]<Min):\n",
      "            Min=iv[ind[0][j]][0]\n",
      "        if(iv[ind[0][j]][0]>Max):\n",
      "            Max=iv[ind[0][j]][0]\n",
      "    \n",
      "    bv.append([Min-1,cvy[i]])\n",
      "    bv.append([Max+1,cvy[i]])\n",
      "\n",
      "\n",
      "bv=np.asarray(bv)\n",
      "\n",
      "for i in range(len(bv)):\n",
      "    plt.plot(xv[bv[i,0]],yv[bv[i,1]],'xk')\n",
      "\n",
      "plt.show()"
     ],
     "language": "python",
     "metadata": {},
     "outputs": []
    },
    {
     "cell_type": "markdown",
     "metadata": {},
     "source": [
      "The most complex task is done. The indices of the $u$ and $v$ velocity points just outside the solid boundary are stored in arrays $bu$ and $bv$ respectively. Next we use the direct forcing approach to force velocity at these points to be zero (stationary cylinder)."
     ]
    },
    {
     "cell_type": "code",
     "collapsed": false,
     "input": [
      "u[:,:]=0\n",
      "ut[:,:]=0\n",
      "v[:,:]=0\n",
      "vt[:,:]=0\n",
      "\n",
      "tmax=7\n",
      "dt=.4*min(dx,dy)\n",
      "nt=int((tmax-t)/dt)\n",
      "\n",
      "maxit=100\n",
      "[X,Y]=np.meshgrid(x,y)\n",
      "\n",
      "for tstep in range(nt):\n",
      "    \n",
      "    \n",
      "    # Predictor Step\n",
      "    \n",
      "    ue1=(u[1:-1,1:-1]+u[2:,1:-1])/2\n",
      "    uw1=(u[1:-1,1:-1]+u[:-2,1:-1])/2\n",
      "    us1=(u[1:-1,1:-1]+u[1:-1,:-2])/2\n",
      "    un1=(u[1:-1,1:-1]+u[1:-1,2:])/2\n",
      "    vs1=(v[1:-2,:-1]+v[2:-1,:-1])/2\n",
      "    vn1=(v[1:-2,1:]+v[2:-1,1:])/2\n",
      "        \n",
      "    G1=(F1C(ue1,uw1,us1,un1,vs1,vn1,dx,dy)+FV(u[1:-1,1:-1],u[2:,1:-1],u[:-2,1:-1],u[1:-1,2:],u[1:-1,:-2],dx,dy,mu))\n",
      "    ut[1:-1,1:-1]=u[1:-1,1:-1]+(dt/1)*G1\n",
      "\n",
      "    \n",
      "    ve12=(v[1:-1,1:-1]+v[2:,1:-1])/2\n",
      "    vw12=(v[1:-1,1:-1]+v[:-2,1:-1])/2\n",
      "    vs12=(v[1:-1,1:-1]+v[1:-1,:-2])/2\n",
      "    vn12=(v[1:-1,1:-1]+v[1:-1,2:])/2\n",
      "    us12=(u[:-1,1:-2]+u[:-1,2:-1])/2\n",
      "    un12=(u[1:,1:-2]+u[1:,2:-1])/2\n",
      "        \n",
      "    G2=(F2C(ve12,vw12,vs12,vn12,us12,un12,dx,dy)+FV(v[1:-1,1:-1],v[2:,1:-1],v[:-2,1:-1],\\\n",
      "                             v[1:-1,2:],v[1:-1,:-2],dx,dy,mu))\n",
      "    vt[1:-1,1:-1]=v[1:-1,1:-1]+(dt/1)*G2    \n",
      "    \n",
      "    # Direct Forcing \n",
      "    \n",
      "    for i in range(len(bu)):\n",
      "       ut[bu[i,0]][bu[i,1]]=0\n",
      "    \n",
      "    for i in range(len(bv)):\n",
      "       vt[bv[i,0]][bv[i,1]]=0\n",
      "    \n",
      "    # Boundary Condtions for predicted velocities\n",
      "    \n",
      "    ut[:,0]=2*0-ut[:,1]\n",
      "    ut[:,-1]=2*U-ut[:,-2]\n",
      "    \n",
      "    \n",
      "    vt[0,:]=0-vt[1,:]\n",
      "    vt[-1,:]=0-vt[-2,:]\n",
      "    vt[1:-1,-1]=-0.5\n",
      "\n",
      "    # Pressure Poisson Solver\n",
      "    \n",
      "    for it in range(maxit):\n",
      "        for i in range(1,Nx):\n",
      "            for j in range(1,Ny):\n",
      "                p[i][j]=w*0.25*(p[i][j+1]+p[i][j-1]+p[i+1][j]+p[i-1][j]-(1*dy/(1*dt))*(vt[i][j]-vt[i][j-1])-\\\n",
      "                       (1*dx/(1*dt))*(ut[i][j]-ut[i-1][j]))+(1-w)*p[i][j]    \n",
      "        \n",
      "        p[:,0]=p[:,1]\n",
      "        p[:,-1]=p[:,-2]\n",
      "\n",
      "        p[0,:]=p[1,:]\n",
      "        p[-1,:]=p[-2,:]\n",
      "\n",
      "    # Corrector Step\n",
      "    u[1:-1,1:-1]=ut[1:-1,1:-1]-(dt/(1*dx))*(p[2:-1,1:-1]-p[1:-2,1:-1])\n",
      "    v[1:-1,1:-1]=vt[1:-1,1:-1]-(dt/(1*dy))*(p[1:-1,2:-1]-p[1:-1,1:-2])\n",
      "\n",
      "    \n",
      "    # Boundary Condtions for Corrected Velocities\n",
      "    u[:,0]=2*0-u[:,1]\n",
      "    u[:,-1]=2*U-u[:,-2]\n",
      "    \n",
      "    \n",
      "    v[0,:]=0-v[1,:]\n",
      "    v[-1,:]=0-v[-2,:]\n",
      "    v[1:-1,-1]=-0.5\n",
      "    \n",
      "    \n",
      "uu=(u[:,:-1]+u[:,1:])*0.5\n",
      "vv=(v[:-1,:]+v[1:,:])*0.5\n",
      "\n",
      "uu=uu.T\n",
      "vv=vv.T"
     ],
     "language": "python",
     "metadata": {},
     "outputs": []
    },
    {
     "cell_type": "markdown",
     "metadata": {},
     "source": [
      "The results below show how the velocity field curves around the solid obstacle"
     ]
    },
    {
     "cell_type": "code",
     "collapsed": false,
     "input": [
      "%matplotlib inline\n",
      "plt.figure(figsize=(size+3, (1.-0)/(1.-0)*(size+3)))\n",
      "plt.contourf(X,Y,np.sqrt(uu**2+vv**2))\n",
      "plt.quiver(X,Y,uu,vv,units='width')\n",
      "plt.fill(xcircle,ycircle,'k')\n",
      "plt.axis('equal')\n",
      "plt.show()"
     ],
     "language": "python",
     "metadata": {},
     "outputs": []
    },
    {
     "cell_type": "heading",
     "level": 3,
     "metadata": {},
     "source": [
      "Conclusion"
     ]
    },
    {
     "cell_type": "markdown",
     "metadata": {},
     "source": [
      "The development of Navier-Stokes solver described in this notebook is just a basic formulation. More complex flows can be simulated by introducing mathematical models to account for these complexities. Turbulence and thermodynamic models have  been developed to visualize the eddies formed at high Reynolds numbers. To simulate different types of flow, different boundary conditions can be imposed. Boundary conditions play an important role and are the heart of a CFD code. I encourage the reader to build on this notebook and keep working on developing complex codes."
     ]
    },
    {
     "cell_type": "heading",
     "level": 3,
     "metadata": {},
     "source": [
      "References"
     ]
    },
    {
     "cell_type": "markdown",
     "metadata": {},
     "source": [
      "Professor Barba,\n",
      "\n",
      "While writing this notebook, I relaised the importance of numerical-mooc. It is all about learning together. Thank you, for teaching us that.\n",
      "\n",
      "Sincerely,\n",
      "Akash Dhruv"
     ]
    }
   ],
   "metadata": {}
  }
 ]
}