{
 "metadata": {
  "name": ""
 },
 "nbformat": 3,
 "nbformat_minor": 0,
 "worksheets": [
  {
   "cells": [
    {
     "cell_type": "code",
     "collapsed": false,
     "input": [
      "import numpy as np \n",
      "import matplotlib.pyplot as plt \n",
      "\n",
      "# linear convection function\n",
      "\n",
      "def F(rho,switch):\n",
      "    if switch==1:\n",
      "        Vmax=80.\n",
      "        rhomax=250.\n",
      "        f=Vmax*rho*(1-(rho/rhomax))\n",
      "    elif switch==2:\n",
      "        Vmax=136.\n",
      "        rhomax=250.\n",
      "        f=Vmax*rho*(1-(rho/rhomax))\n",
      "    return f\n",
      "\n",
      "def traffic_flow(nx,nt,switch):\n",
      "    \n",
      "\t# IC\n",
      "\tL=11.\n",
      "        dt=0.001\n",
      "\tx = np.linspace(0,L,nx)\n",
      "\tdx=x[1]-x[0]\n",
      "        v=np.ones(nx)*0.0\n",
      "        vn=np.ones(nx)*0.0\n",
      "        r = np.ones(nx)*10\n",
      "        r[10:20] = 50\n",
      "        if(switch==1):\n",
      "            ro=10.0\n",
      "        elif(switch==2):\n",
      "            ro=20.0\n",
      "        \n",
      "        r[0] = ro\n",
      "\n",
      "\tfor i in range(nt):\n",
      "\t    rn = r.copy()\n",
      "\t    for j in range(1,nx):\n",
      "\t\t  r[j] = rn[j] - dt/dx*(F(rn[j],switch) - F(rn[j-1],switch))\n",
      "            r[0]=ro\n",
      "        for j in range(nx):\n",
      "            v[j]=F(r[j],switch)/r[j]\n",
      "        for j in range(nx):\n",
      "            vn[j]=F(rn[j],switch)/rn[j]\n",
      "        \n",
      "\tplt.figure\n",
      "\tplt.plot(x,v)\n",
      "\tplt.show()\n",
      "\t\n",
      "\treturn r,v,rn,vn\n",
      "\n",
      "# Part A\n",
      "# Minimum velcoity at t=0\n",
      "r,v,rn,vn=traffic_flow(51,1,1)\n",
      "\n",
      "print \"Part A, Q1:\",min(vn)*5/18\n",
      "\n",
      "# Average velocity at t=3 mins\n",
      "r,v,rn,vn=traffic_flow(51,50,1)\n",
      "\n",
      "print \"Part A, Q2:\",(sum(v)/51)*5/18\n",
      "\n",
      "# Minimum velocity at t=6 mins\n",
      "r,v,rn,vn=traffic_flow(51,100,1)\n",
      "\n",
      "print \"Part A, Q3:\",min(v)*5/18\n",
      "\n",
      "# Part B\n",
      "# Minimum velcoity at t=0\n",
      "r,v,rn,vn=traffic_flow(51,1,2)\n",
      "\n",
      "print \"Part B, Q1:\",min(vn)*5/18\n",
      "\n",
      "# Average velocity at t=3 mins\n",
      "r,v,rn,vn=traffic_flow(51,50,2)\n",
      "\n",
      "print \"Part B, Q2:\",(sum(v)/51)*5/18\n",
      "\n",
      "# Minimum velocity at t=6 mins\n",
      "r,v,rn,vn=traffic_flow(51,50,2)\n",
      "\n",
      "print \"Part B, Q3:\",min(v)*5/18"
     ],
     "language": "python",
     "metadata": {},
     "outputs": [
      {
       "output_type": "stream",
       "stream": "stdout",
       "text": [
        "Part A, Q1: 17.7777777778\n",
        "Part A, Q2:"
       ]
      },
      {
       "output_type": "stream",
       "stream": "stdout",
       "text": [
        " 20.6361661961\n",
        "Part A, Q3:"
       ]
      },
      {
       "output_type": "stream",
       "stream": "stdout",
       "text": [
        " 18.7847168709\n",
        "Part B, Q1:"
       ]
      },
      {
       "output_type": "stream",
       "stream": "stdout",
       "text": [
        " 30.2222222222\n",
        "Part B, Q2:"
       ]
      },
      {
       "output_type": "stream",
       "stream": "stdout",
       "text": [
        " 34.2693722253\n",
        "Part B, Q3:"
       ]
      },
      {
       "output_type": "stream",
       "stream": "stdout",
       "text": [
        " 31.3002645553\n"
       ]
      }
     ],
     "prompt_number": 1
    }
   ],
   "metadata": {}
  }
 ]
}