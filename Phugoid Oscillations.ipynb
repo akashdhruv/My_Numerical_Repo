{
 "metadata": {
  "name": "",
  "signature": "sha256:504b1410b712799ab430bda543bfcf15beed82d691831bd04334ea66e5542750"
 },
 "nbformat": 3,
 "nbformat_minor": 0,
 "worksheets": [
  {
   "cells": [
    {
     "cell_type": "code",
     "collapsed": false,
     "input": [
      "# The following code calculates numerical results values of vertical position of an aircraft in Phugoid oscillations.\n",
      "# The numerical values are compared with analytical values for different time steps to get error values.\n",
      "\n",
      "import numpy as np\n",
      "import matplotlib.pyplot as plt\n",
      "\n",
      "## SETTING GLOBAL CONSTANTS\n",
      "\n",
      "# Define Initial Height, Vertical Gust and theta.\n",
      "z0 = 100. \n",
      "v  = 10.   \n",
      "theta=0\n",
      "# Define the height associated with trim velocity\n",
      "zt = 100.\n",
      "\n",
      "g  = 9.81 # Accleration due to gravity\n",
      "\n",
      "\n",
      "\n",
      "# FUNCTION DEFINITIONS\n",
      "\n",
      "def Euler(T,dt):\n",
      "    # Function Euler to numerically solve the equation of Phugoid Motion\n",
      "    # Input Arguments T- Total Time for the motion, dt- time step\n",
      "    # The function returns vertical postions, z for at different times, t\n",
      "    \n",
      "    N=int(T/dt) # Number of time steps\n",
      "    t=np.linspace(0.0,T,N) # time array\n",
      "    \n",
      "    global z0, v, zt, g, theta # accessing globally defined values\n",
      "    \n",
      "    u = numpy.array([z0, v]) # vector array storing position and velocity\n",
      "    z = numpy.zeros(N)       # array to store z-positions\n",
      "    z[0] = z0  \n",
      "    \n",
      "    # Loop for Euler method\n",
      "    for n in range(N-1):\n",
      "        u = u + dt*numpy.array([u[1], g*(cos(theta)-u[0]/zt)])\n",
      "        z[n] = u[0]\n",
      "    \n",
      "    return z,t\n",
      "\n",
      "def Analytical(T,dt):\n",
      "    # Function Analytical to solve the equation of Phugoid Motion analytically\n",
      "    # Input Arguments T- Total Time for the motion, dt- time step\n",
      "    # The function returns vertical postions, z_an for at different times, t\n",
      "    \n",
      "    N=int(T/dt) # Number of time steps\n",
      "    t=np.linspace(0.0,T,N) # time array\n",
      "    \n",
      "    global z0, v, zt, g, theta\n",
      "    \n",
      "    # Solving analytical equation\n",
      "    z_an = v*(zt/g)**.5*numpy.sin((g/zt)**.5*t)+\\\n",
      "                (z0-zt)*numpy.cos((g/zt)**.5*t)+zt\n",
      "    \n",
      "    return z_an,t"
     ],
     "language": "python",
     "metadata": {},
     "outputs": [],
     "prompt_number": 12
    },
    {
     "cell_type": "code",
     "collapsed": false,
     "input": [
      "dt=np.array([0.1, 0.05, 0.01, 0.005, 0.001, 0.0001]) # Array for different time steps.\n",
      "\n",
      "dtsize=len(dt)\n",
      "error=np.empty(size(dt)) # Array to store error values\n",
      "\n",
      "# loop to calculate L1 error \n",
      "for i in range(dtsize):\n",
      "    [z,t]=Euler(100.0,dt[i]) # Numerical Values\n",
      "    [zan,t]=Analytical(100.0,dt[i]) # Analytical Values\n",
      "    #plt.figure\n",
      "    #plt.plot(t,z, 'k-')\n",
      "    #plt.plot(t,zan,'r--')\n",
      "    #plt.xlabel('t')\n",
      "    #plt.ylabel('z')\n",
      "    error[i]=dt[i] * numpy.sum(numpy.abs(z-zan)) # L1 error equation\n",
      "    \n",
      "# Plotting Results\n",
      "plt.figure\n",
      "plt.loglog(dt,error,'.k-')\n",
      "plt.xlabel('dt')\n",
      "plt.ylabel('error')\n",
      "plt.axis('equal')\n",
      "print error\n"
     ],
     "language": "python",
     "metadata": {},
     "outputs": [
      {
       "output_type": "stream",
       "stream": "stdout",
       "text": [
        "[  6.09478037e+02   2.79940733e+02   5.24469375e+01   2.60142832e+01\n",
        "   5.16975750e+00   5.16235507e-01]\n"
       ]
      },
      {
       "metadata": {},
       "output_type": "display_data",
       "png": "[encoded data removed]",
       "text": [
        "<matplotlib.figure.Figure at 0x7f2b294366d0>"
       ]
      }
     ],
     "prompt_number": 13
    },
    {
     "cell_type": "code",
     "collapsed": false,
     "input": [],
     "language": "python",
     "metadata": {},
     "outputs": [],
     "prompt_number": 13
    }
   ],
   "metadata": {}
  }
 ]
}